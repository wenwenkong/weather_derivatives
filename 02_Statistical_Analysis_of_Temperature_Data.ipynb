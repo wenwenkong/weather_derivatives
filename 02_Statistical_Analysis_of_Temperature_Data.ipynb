{
 "cells": [
  {
   "cell_type": "markdown",
   "metadata": {},
   "source": [
    "## Part 1: [Statistical Analysis of Temperature Data](https://quantpy.com.au/weather-derivatives/statistical-analysis-of-temperature-data/)\n"
   ]
  },
  {
   "cell_type": "markdown",
   "metadata": {},
   "source": [
    "### Aim: price temperature options \n",
    "\n",
    "### Underlying: HDD/CDD index over given period\n",
    "\n",
    "The underlying over a temperature option is the heating/cooling degree days (HDD/CDD) index based on 'approximation' of average temperature and reference (/base) temperature. "
   ]
  },
  {
   "cell_type": "markdown",
   "metadata": {},
   "source": [
    "### Dataset: Weather Observations for Sydney, Australia - Observatory Hill\n",
    "\n",
    "- Weather Station 1: 1-Jan 1859 to 30-Aug 2020\n",
    "\n",
    "- Weather Station 2: 18-Oct 2017 to 3-Jul 2022"
   ]
  },
  {
   "cell_type": "code",
   "execution_count": 1,
   "metadata": {},
   "outputs": [],
   "source": [
    "import numpy as np\n",
    "import pandas as pd\n",
    "import datetime as dt\n",
    "import matplotlib.pyplot as plt "
   ]
  },
  {
   "cell_type": "code",
   "execution_count": 2,
   "metadata": {},
   "outputs": [
    {
     "data": {
      "text/html": [
       "<div>\n",
       "<style scoped>\n",
       "    .dataframe tbody tr th:only-of-type {\n",
       "        vertical-align: middle;\n",
       "    }\n",
       "\n",
       "    .dataframe tbody tr th {\n",
       "        vertical-align: top;\n",
       "    }\n",
       "\n",
       "    .dataframe thead th {\n",
       "        text-align: right;\n",
       "    }\n",
       "</style>\n",
       "<table border=\"1\" class=\"dataframe\">\n",
       "  <thead>\n",
       "    <tr style=\"text-align: right;\">\n",
       "      <th></th>\n",
       "      <th>Product code</th>\n",
       "      <th>Bureau of Meteorology station number</th>\n",
       "      <th>Year</th>\n",
       "      <th>Month</th>\n",
       "      <th>Day</th>\n",
       "      <th>Maximum temperature (Degree C)</th>\n",
       "      <th>Days of accumulation of maximum temperature</th>\n",
       "      <th>Quality</th>\n",
       "    </tr>\n",
       "  </thead>\n",
       "  <tbody>\n",
       "    <tr>\n",
       "      <th>0</th>\n",
       "      <td>IDCJAC0010</td>\n",
       "      <td>66062</td>\n",
       "      <td>1859</td>\n",
       "      <td>1</td>\n",
       "      <td>1</td>\n",
       "      <td>24.4</td>\n",
       "      <td>NaN</td>\n",
       "      <td>Y</td>\n",
       "    </tr>\n",
       "    <tr>\n",
       "      <th>1</th>\n",
       "      <td>IDCJAC0010</td>\n",
       "      <td>66062</td>\n",
       "      <td>1859</td>\n",
       "      <td>1</td>\n",
       "      <td>2</td>\n",
       "      <td>24.4</td>\n",
       "      <td>1.0</td>\n",
       "      <td>Y</td>\n",
       "    </tr>\n",
       "    <tr>\n",
       "      <th>2</th>\n",
       "      <td>IDCJAC0010</td>\n",
       "      <td>66062</td>\n",
       "      <td>1859</td>\n",
       "      <td>1</td>\n",
       "      <td>3</td>\n",
       "      <td>24.2</td>\n",
       "      <td>1.0</td>\n",
       "      <td>Y</td>\n",
       "    </tr>\n",
       "    <tr>\n",
       "      <th>3</th>\n",
       "      <td>IDCJAC0010</td>\n",
       "      <td>66062</td>\n",
       "      <td>1859</td>\n",
       "      <td>1</td>\n",
       "      <td>4</td>\n",
       "      <td>24.7</td>\n",
       "      <td>1.0</td>\n",
       "      <td>Y</td>\n",
       "    </tr>\n",
       "    <tr>\n",
       "      <th>4</th>\n",
       "      <td>IDCJAC0010</td>\n",
       "      <td>66062</td>\n",
       "      <td>1859</td>\n",
       "      <td>1</td>\n",
       "      <td>5</td>\n",
       "      <td>24.6</td>\n",
       "      <td>1.0</td>\n",
       "      <td>Y</td>\n",
       "    </tr>\n",
       "  </tbody>\n",
       "</table>\n",
       "</div>"
      ],
      "text/plain": [
       "  Product code  Bureau of Meteorology station number  Year  Month  Day  \\\n",
       "0   IDCJAC0010                                 66062  1859      1    1   \n",
       "1   IDCJAC0010                                 66062  1859      1    2   \n",
       "2   IDCJAC0010                                 66062  1859      1    3   \n",
       "3   IDCJAC0010                                 66062  1859      1    4   \n",
       "4   IDCJAC0010                                 66062  1859      1    5   \n",
       "\n",
       "   Maximum temperature (Degree C)  \\\n",
       "0                            24.4   \n",
       "1                            24.4   \n",
       "2                            24.2   \n",
       "3                            24.7   \n",
       "4                            24.6   \n",
       "\n",
       "   Days of accumulation of maximum temperature Quality  \n",
       "0                                          NaN       Y  \n",
       "1                                          1.0       Y  \n",
       "2                                          1.0       Y  \n",
       "3                                          1.0       Y  \n",
       "4                                          1.0       Y  "
      ]
     },
     "execution_count": 2,
     "metadata": {},
     "output_type": "execute_result"
    }
   ],
   "source": [
    "max_temp=pd.read_csv('https://raw.githubusercontent.com/ASXPortfolio/jupyter-notebooks-data/main/maximum_temperature.csv')\n",
    "\n",
    "min_temp=pd.read_csv('https://raw.githubusercontent.com/ASXPortfolio/jupyter-notebooks-data/main/minimum_temperature.csv')\n",
    "\n",
    "max_temp.head()"
   ]
  },
  {
   "cell_type": "markdown",
   "metadata": {},
   "source": [
    "### Check for missing data"
   ]
  },
  {
   "cell_type": "code",
   "execution_count": 3,
   "metadata": {},
   "outputs": [
    {
     "data": {
      "text/plain": [
       "(Product code                                     0\n",
       " Bureau of Meteorology station number             0\n",
       " Year                                             0\n",
       " Month                                            0\n",
       " Day                                              0\n",
       " Maximum temperature (Degree C)                 153\n",
       " Days of accumulation of maximum temperature    286\n",
       " Quality                                        155\n",
       " dtype: int64,\n",
       " Product code                                     0\n",
       " Bureau of Meteorology station number             0\n",
       " Year                                             0\n",
       " Month                                            0\n",
       " Day                                              0\n",
       " Minimum temperature (Degree C)                 153\n",
       " Days of accumulation of minimum temperature    286\n",
       " Quality                                        154\n",
       " dtype: int64)"
      ]
     },
     "execution_count": 3,
     "metadata": {},
     "output_type": "execute_result"
    }
   ],
   "source": [
    "max_temp.isnull().sum(), min_temp.isnull().sum()"
   ]
  },
  {
   "cell_type": "markdown",
   "metadata": {},
   "source": [
    "### Are these the same days? If not will have to drop all rows (days) with at least value missing. "
   ]
  },
  {
   "cell_type": "code",
   "execution_count": 4,
   "metadata": {},
   "outputs": [
    {
     "name": "stdout",
     "output_type": "stream",
     "text": [
      "Number of Misaligned Null Values:  41\n"
     ]
    }
   ],
   "source": [
    "count = 0\n",
    "\n",
    "for mx, mn in zip(np.where(max_temp.isnull())[0], np.where(min_temp.isnull())[0]):\n",
    "    if mx != mn:\n",
    "        count += 1\n",
    "        \n",
    "print('Number of Misaligned Null Values: ', count)"
   ]
  },
  {
   "cell_type": "markdown",
   "metadata": {},
   "source": [
    "### Create cleaned max, min temperature dataframe\n",
    "\n",
    "- Applying function to every row, see [here](https://sparkbyexamples.com/pandas/pandas-apply-function-to-every-row/)"
   ]
  },
  {
   "cell_type": "code",
   "execution_count": 5,
   "metadata": {},
   "outputs": [
    {
     "data": {
      "text/html": [
       "<div>\n",
       "<style scoped>\n",
       "    .dataframe tbody tr th:only-of-type {\n",
       "        vertical-align: middle;\n",
       "    }\n",
       "\n",
       "    .dataframe tbody tr th {\n",
       "        vertical-align: top;\n",
       "    }\n",
       "\n",
       "    .dataframe thead th {\n",
       "        text-align: right;\n",
       "    }\n",
       "</style>\n",
       "<table border=\"1\" class=\"dataframe\">\n",
       "  <thead>\n",
       "    <tr style=\"text-align: right;\">\n",
       "      <th></th>\n",
       "      <th>Tmax</th>\n",
       "      <th>Tmin</th>\n",
       "      <th>T</th>\n",
       "    </tr>\n",
       "    <tr>\n",
       "      <th>Date</th>\n",
       "      <th></th>\n",
       "      <th></th>\n",
       "      <th></th>\n",
       "    </tr>\n",
       "  </thead>\n",
       "  <tbody>\n",
       "    <tr>\n",
       "      <th>1859-01-01</th>\n",
       "      <td>24.4</td>\n",
       "      <td>14.5</td>\n",
       "      <td>19.45</td>\n",
       "    </tr>\n",
       "    <tr>\n",
       "      <th>1859-01-02</th>\n",
       "      <td>24.4</td>\n",
       "      <td>15.7</td>\n",
       "      <td>20.05</td>\n",
       "    </tr>\n",
       "    <tr>\n",
       "      <th>1859-01-03</th>\n",
       "      <td>24.2</td>\n",
       "      <td>15.3</td>\n",
       "      <td>19.75</td>\n",
       "    </tr>\n",
       "    <tr>\n",
       "      <th>1859-01-04</th>\n",
       "      <td>24.7</td>\n",
       "      <td>17.4</td>\n",
       "      <td>21.05</td>\n",
       "    </tr>\n",
       "    <tr>\n",
       "      <th>1859-01-05</th>\n",
       "      <td>24.6</td>\n",
       "      <td>16.9</td>\n",
       "      <td>20.75</td>\n",
       "    </tr>\n",
       "    <tr>\n",
       "      <th>...</th>\n",
       "      <td>...</td>\n",
       "      <td>...</td>\n",
       "      <td>...</td>\n",
       "    </tr>\n",
       "    <tr>\n",
       "      <th>2022-06-29</th>\n",
       "      <td>17.9</td>\n",
       "      <td>8.0</td>\n",
       "      <td>12.95</td>\n",
       "    </tr>\n",
       "    <tr>\n",
       "      <th>2022-06-30</th>\n",
       "      <td>16.9</td>\n",
       "      <td>10.2</td>\n",
       "      <td>13.55</td>\n",
       "    </tr>\n",
       "    <tr>\n",
       "      <th>2022-07-01</th>\n",
       "      <td>12.0</td>\n",
       "      <td>10.3</td>\n",
       "      <td>11.15</td>\n",
       "    </tr>\n",
       "    <tr>\n",
       "      <th>2022-07-02</th>\n",
       "      <td>15.8</td>\n",
       "      <td>10.8</td>\n",
       "      <td>13.30</td>\n",
       "    </tr>\n",
       "    <tr>\n",
       "      <th>2022-07-03</th>\n",
       "      <td>16.7</td>\n",
       "      <td>11.7</td>\n",
       "      <td>14.20</td>\n",
       "    </tr>\n",
       "  </tbody>\n",
       "</table>\n",
       "<p>59557 rows × 3 columns</p>\n",
       "</div>"
      ],
      "text/plain": [
       "            Tmax  Tmin      T\n",
       "Date                         \n",
       "1859-01-01  24.4  14.5  19.45\n",
       "1859-01-02  24.4  15.7  20.05\n",
       "1859-01-03  24.2  15.3  19.75\n",
       "1859-01-04  24.7  17.4  21.05\n",
       "1859-01-05  24.6  16.9  20.75\n",
       "...          ...   ...    ...\n",
       "2022-06-29  17.9   8.0  12.95\n",
       "2022-06-30  16.9  10.2  13.55\n",
       "2022-07-01  12.0  10.3  11.15\n",
       "2022-07-02  15.8  10.8  13.30\n",
       "2022-07-03  16.7  11.7  14.20\n",
       "\n",
       "[59557 rows x 3 columns]"
      ]
     },
     "execution_count": 5,
     "metadata": {},
     "output_type": "execute_result"
    }
   ],
   "source": [
    "def datetime(row):\n",
    "    return dt.datetime(row.Year, row.Month, row.Day)\n",
    "\n",
    "max_temp['Date'] = max_temp.apply(datetime, axis=1)\n",
    "min_temp['Date'] = min_temp.apply(datetime, axis=1)\n",
    "max_temp.set_index('Date', inplace=True)\n",
    "min_temp.set_index('Date', inplace=True)\n",
    "\n",
    "drop_cols = [0,1,2,3,4,6,7]\n",
    "max_temp.drop(max_temp.columns[drop_cols], axis=1, inplace=True)\n",
    "min_temp.drop(min_temp.columns[drop_cols], axis=1, inplace=True)\n",
    "max_temp.rename(columns={'Maximum temperature (Degree C)': 'Tmax'}, inplace=True)\n",
    "min_temp.rename(columns={'Minimum temperature (Degree C)': 'Tmin'}, inplace=True)\n",
    "\n",
    "temps=max_temp.merge(min_temp,how='inner',left_on=['Date'],right_on=['Date'])\n",
    "\n",
    "def avg_temp(row):\n",
    "    return (row.Tmax+row.Tmin)/2\n",
    "\n",
    "temps['T']=temps.apply(avg_temp,axis=1)\n",
    "\n",
    "# drop NaN values here\n",
    "temps=temps.dropna()\n",
    "temps"
   ]
  },
  {
   "cell_type": "code",
   "execution_count": 6,
   "metadata": {},
   "outputs": [
    {
     "data": {
      "text/html": [
       "<div>\n",
       "<style scoped>\n",
       "    .dataframe tbody tr th:only-of-type {\n",
       "        vertical-align: middle;\n",
       "    }\n",
       "\n",
       "    .dataframe tbody tr th {\n",
       "        vertical-align: top;\n",
       "    }\n",
       "\n",
       "    .dataframe thead th {\n",
       "        text-align: right;\n",
       "    }\n",
       "</style>\n",
       "<table border=\"1\" class=\"dataframe\">\n",
       "  <thead>\n",
       "    <tr style=\"text-align: right;\">\n",
       "      <th></th>\n",
       "      <th>Tmax</th>\n",
       "      <th>Tmin</th>\n",
       "      <th>T</th>\n",
       "    </tr>\n",
       "  </thead>\n",
       "  <tbody>\n",
       "    <tr>\n",
       "      <th>count</th>\n",
       "      <td>59557.000000</td>\n",
       "      <td>59557.000000</td>\n",
       "      <td>59557.000000</td>\n",
       "    </tr>\n",
       "    <tr>\n",
       "      <th>mean</th>\n",
       "      <td>21.765421</td>\n",
       "      <td>13.822060</td>\n",
       "      <td>17.793740</td>\n",
       "    </tr>\n",
       "    <tr>\n",
       "      <th>std</th>\n",
       "      <td>4.671480</td>\n",
       "      <td>4.441057</td>\n",
       "      <td>4.294937</td>\n",
       "    </tr>\n",
       "    <tr>\n",
       "      <th>min</th>\n",
       "      <td>7.700000</td>\n",
       "      <td>2.100000</td>\n",
       "      <td>6.400000</td>\n",
       "    </tr>\n",
       "    <tr>\n",
       "      <th>25%</th>\n",
       "      <td>18.300000</td>\n",
       "      <td>10.100000</td>\n",
       "      <td>14.200000</td>\n",
       "    </tr>\n",
       "    <tr>\n",
       "      <th>50%</th>\n",
       "      <td>21.700000</td>\n",
       "      <td>14.000000</td>\n",
       "      <td>17.900000</td>\n",
       "    </tr>\n",
       "    <tr>\n",
       "      <th>75%</th>\n",
       "      <td>24.900000</td>\n",
       "      <td>17.500000</td>\n",
       "      <td>21.100000</td>\n",
       "    </tr>\n",
       "    <tr>\n",
       "      <th>max</th>\n",
       "      <td>45.800000</td>\n",
       "      <td>27.600000</td>\n",
       "      <td>33.750000</td>\n",
       "    </tr>\n",
       "  </tbody>\n",
       "</table>\n",
       "</div>"
      ],
      "text/plain": [
       "               Tmax          Tmin             T\n",
       "count  59557.000000  59557.000000  59557.000000\n",
       "mean      21.765421     13.822060     17.793740\n",
       "std        4.671480      4.441057      4.294937\n",
       "min        7.700000      2.100000      6.400000\n",
       "25%       18.300000     10.100000     14.200000\n",
       "50%       21.700000     14.000000     17.900000\n",
       "75%       24.900000     17.500000     21.100000\n",
       "max       45.800000     27.600000     33.750000"
      ]
     },
     "execution_count": 6,
     "metadata": {},
     "output_type": "execute_result"
    }
   ],
   "source": [
    "temps.describe()"
   ]
  },
  {
   "cell_type": "markdown",
   "metadata": {},
   "source": [
    "### Indicate winter and summer periods (for Australia):\n",
    "\n",
    "- Winter ~ May-Oct\n",
    "\n",
    "- Summer ~ Nov-Apr"
   ]
  },
  {
   "cell_type": "code",
   "execution_count": 7,
   "metadata": {},
   "outputs": [
    {
     "data": {
      "text/html": [
       "<div>\n",
       "<style scoped>\n",
       "    .dataframe tbody tr th:only-of-type {\n",
       "        vertical-align: middle;\n",
       "    }\n",
       "\n",
       "    .dataframe tbody tr th {\n",
       "        vertical-align: top;\n",
       "    }\n",
       "\n",
       "    .dataframe thead th {\n",
       "        text-align: right;\n",
       "    }\n",
       "</style>\n",
       "<table border=\"1\" class=\"dataframe\">\n",
       "  <thead>\n",
       "    <tr style=\"text-align: right;\">\n",
       "      <th></th>\n",
       "      <th>Tmax</th>\n",
       "      <th>Tmin</th>\n",
       "      <th>T</th>\n",
       "      <th>month</th>\n",
       "      <th>winter</th>\n",
       "      <th>summer</th>\n",
       "    </tr>\n",
       "    <tr>\n",
       "      <th>Date</th>\n",
       "      <th></th>\n",
       "      <th></th>\n",
       "      <th></th>\n",
       "      <th></th>\n",
       "      <th></th>\n",
       "      <th></th>\n",
       "    </tr>\n",
       "  </thead>\n",
       "  <tbody>\n",
       "    <tr>\n",
       "      <th>1859-01-01</th>\n",
       "      <td>24.4</td>\n",
       "      <td>14.5</td>\n",
       "      <td>19.45</td>\n",
       "      <td>1</td>\n",
       "      <td>0</td>\n",
       "      <td>1</td>\n",
       "    </tr>\n",
       "    <tr>\n",
       "      <th>1859-01-02</th>\n",
       "      <td>24.4</td>\n",
       "      <td>15.7</td>\n",
       "      <td>20.05</td>\n",
       "      <td>1</td>\n",
       "      <td>0</td>\n",
       "      <td>1</td>\n",
       "    </tr>\n",
       "    <tr>\n",
       "      <th>1859-01-03</th>\n",
       "      <td>24.2</td>\n",
       "      <td>15.3</td>\n",
       "      <td>19.75</td>\n",
       "      <td>1</td>\n",
       "      <td>0</td>\n",
       "      <td>1</td>\n",
       "    </tr>\n",
       "    <tr>\n",
       "      <th>1859-01-04</th>\n",
       "      <td>24.7</td>\n",
       "      <td>17.4</td>\n",
       "      <td>21.05</td>\n",
       "      <td>1</td>\n",
       "      <td>0</td>\n",
       "      <td>1</td>\n",
       "    </tr>\n",
       "    <tr>\n",
       "      <th>1859-01-05</th>\n",
       "      <td>24.6</td>\n",
       "      <td>16.9</td>\n",
       "      <td>20.75</td>\n",
       "      <td>1</td>\n",
       "      <td>0</td>\n",
       "      <td>1</td>\n",
       "    </tr>\n",
       "    <tr>\n",
       "      <th>...</th>\n",
       "      <td>...</td>\n",
       "      <td>...</td>\n",
       "      <td>...</td>\n",
       "      <td>...</td>\n",
       "      <td>...</td>\n",
       "      <td>...</td>\n",
       "    </tr>\n",
       "    <tr>\n",
       "      <th>2022-06-29</th>\n",
       "      <td>17.9</td>\n",
       "      <td>8.0</td>\n",
       "      <td>12.95</td>\n",
       "      <td>6</td>\n",
       "      <td>1</td>\n",
       "      <td>0</td>\n",
       "    </tr>\n",
       "    <tr>\n",
       "      <th>2022-06-30</th>\n",
       "      <td>16.9</td>\n",
       "      <td>10.2</td>\n",
       "      <td>13.55</td>\n",
       "      <td>6</td>\n",
       "      <td>1</td>\n",
       "      <td>0</td>\n",
       "    </tr>\n",
       "    <tr>\n",
       "      <th>2022-07-01</th>\n",
       "      <td>12.0</td>\n",
       "      <td>10.3</td>\n",
       "      <td>11.15</td>\n",
       "      <td>7</td>\n",
       "      <td>1</td>\n",
       "      <td>0</td>\n",
       "    </tr>\n",
       "    <tr>\n",
       "      <th>2022-07-02</th>\n",
       "      <td>15.8</td>\n",
       "      <td>10.8</td>\n",
       "      <td>13.30</td>\n",
       "      <td>7</td>\n",
       "      <td>1</td>\n",
       "      <td>0</td>\n",
       "    </tr>\n",
       "    <tr>\n",
       "      <th>2022-07-03</th>\n",
       "      <td>16.7</td>\n",
       "      <td>11.7</td>\n",
       "      <td>14.20</td>\n",
       "      <td>7</td>\n",
       "      <td>1</td>\n",
       "      <td>0</td>\n",
       "    </tr>\n",
       "  </tbody>\n",
       "</table>\n",
       "<p>59557 rows × 6 columns</p>\n",
       "</div>"
      ],
      "text/plain": [
       "            Tmax  Tmin      T  month  winter  summer\n",
       "Date                                                \n",
       "1859-01-01  24.4  14.5  19.45      1       0       1\n",
       "1859-01-02  24.4  15.7  20.05      1       0       1\n",
       "1859-01-03  24.2  15.3  19.75      1       0       1\n",
       "1859-01-04  24.7  17.4  21.05      1       0       1\n",
       "1859-01-05  24.6  16.9  20.75      1       0       1\n",
       "...          ...   ...    ...    ...     ...     ...\n",
       "2022-06-29  17.9   8.0  12.95      6       1       0\n",
       "2022-06-30  16.9  10.2  13.55      6       1       0\n",
       "2022-07-01  12.0  10.3  11.15      7       1       0\n",
       "2022-07-02  15.8  10.8  13.30      7       1       0\n",
       "2022-07-03  16.7  11.7  14.20      7       1       0\n",
       "\n",
       "[59557 rows x 6 columns]"
      ]
     },
     "execution_count": 7,
     "metadata": {},
     "output_type": "execute_result"
    }
   ],
   "source": [
    "temps_season=temps.copy(deep=True)\n",
    "temps_season['month']=temps_season.index.month\n",
    "mask=(temps_season['month']>=5) & (temps_season['month']<=10)\n",
    "\n",
    "temps_season['winter']=np.where(mask,1,0)\n",
    "temps_season['summer']=np.where(temps_season['winter'] != 1,1,0)\n",
    "temps_season"
   ]
  },
  {
   "cell_type": "markdown",
   "metadata": {},
   "source": [
    "### Data Visualisation"
   ]
  },
  {
   "cell_type": "markdown",
   "metadata": {},
   "source": [
    "- ### Timeseries plot - all dat"
   ]
  },
  {
   "cell_type": "code",
   "execution_count": 8,
   "metadata": {},
   "outputs": [
    {
     "data": {
      "image/png": "[encoded data removed]",
      "text/plain": [
       "<Figure size 576x432 with 1 Axes>"
      ]
     },
     "metadata": {
      "needs_background": "light"
     },
     "output_type": "display_data"
    }
   ],
   "source": [
    "temps[:].plot(figsize=(8,6))\n",
    "plt.show()"
   ]
  },
  {
   "cell_type": "markdown",
   "metadata": {},
   "source": [
    "- ### Timeseries plot - ~ 14 years"
   ]
  },
  {
   "cell_type": "code",
   "execution_count": 9,
   "metadata": {},
   "outputs": [
    {
     "data": {
      "image/png": "[encoded data removed]",
      "text/plain": [
       "<Figure size 576x432 with 1 Axes>"
      ]
     },
     "metadata": {
      "needs_background": "light"
     },
     "output_type": "display_data"
    }
   ],
   "source": [
    "temps[-5000:].plot(figsize=(8,6))\n",
    "plt.show()"
   ]
  },
  {
   "cell_type": "markdown",
   "metadata": {},
   "source": [
    "- ### Temperature distributions in histogram\n",
    "\n",
    "    - #### We see a bimodal distribution for T"
   ]
  },
  {
   "cell_type": "code",
   "execution_count": 10,
   "metadata": {},
   "outputs": [
    {
     "data": {
      "image/png": "[encoded data removed]",
      "text/plain": [
       "<Figure size 576x432 with 1 Axes>"
      ]
     },
     "metadata": {
      "needs_background": "light"
     },
     "output_type": "display_data"
    }
   ],
   "source": [
    "plt.figure(figsize=(8,6))\n",
    "temps.Tmax.hist(bins=60, alpha=0.6, label='Tmax')\n",
    "temps.Tmin.hist(bins=60, alpha=0.6, label='Tmin')\n",
    "temps['T'].hist(bins=60, alpha=0.8, label='T')\n",
    "plt.legend()\n",
    "plt.show()"
   ]
  },
  {
   "cell_type": "markdown",
   "metadata": {},
   "source": [
    "- ### Bimodal Distribution\n",
    "\n",
    "    - #### The two peaks reflect both the summer and winter months."
   ]
  },
  {
   "cell_type": "code",
   "execution_count": 11,
   "metadata": {},
   "outputs": [
    {
     "data": {
      "image/png": "[encoded data removed]",
      "text/plain": [
       "<Figure size 576x432 with 1 Axes>"
      ]
     },
     "metadata": {
      "needs_background": "light"
     },
     "output_type": "display_data"
    }
   ],
   "source": [
    "plt.figure(figsize=(8,6))\n",
    "temps_season[temps_season['summer']==1]['T'].hist(bins=60, alpha=0.8, label='summer')\n",
    "temps_season[temps_season['winter']==1]['T'].hist(bins=60, alpha=0.8, label='winter')\n",
    "plt.legend()\n",
    "plt.show()"
   ]
  },
  {
   "cell_type": "markdown",
   "metadata": {},
   "source": [
    "### Temperature Records\n",
    "\n",
    "- Compile list of min and max records for each month in data timeframe\n",
    "\n",
    "- Obtain the maximum and minimum of Tmax, Tmin, and T for each month\n",
    "\n",
    "- [pandas resample method](https://pandas.pydata.org/docs/reference/api/pandas.DataFrame.resample.html)"
   ]
  },
  {
   "cell_type": "code",
   "execution_count": 12,
   "metadata": {},
   "outputs": [
    {
     "data": {
      "text/html": [
       "<div>\n",
       "<style scoped>\n",
       "    .dataframe tbody tr th:only-of-type {\n",
       "        vertical-align: middle;\n",
       "    }\n",
       "\n",
       "    .dataframe tbody tr th {\n",
       "        vertical-align: top;\n",
       "    }\n",
       "\n",
       "    .dataframe thead th {\n",
       "        text-align: right;\n",
       "    }\n",
       "</style>\n",
       "<table border=\"1\" class=\"dataframe\">\n",
       "  <thead>\n",
       "    <tr style=\"text-align: right;\">\n",
       "      <th></th>\n",
       "      <th>min</th>\n",
       "      <th>max</th>\n",
       "      <th>month</th>\n",
       "      <th>Tmax_max</th>\n",
       "      <th>Tmax_min</th>\n",
       "      <th>Tmin_max</th>\n",
       "      <th>Tmin_min</th>\n",
       "      <th>T_max</th>\n",
       "      <th>T_min</th>\n",
       "    </tr>\n",
       "  </thead>\n",
       "  <tbody>\n",
       "    <tr>\n",
       "      <th>1859-01-01</th>\n",
       "      <td>1859-01-01</td>\n",
       "      <td>1859-01-31</td>\n",
       "      <td>1</td>\n",
       "      <td>36.9</td>\n",
       "      <td>20.6</td>\n",
       "      <td>19.9</td>\n",
       "      <td>14.5</td>\n",
       "      <td>28.40</td>\n",
       "      <td>18.10</td>\n",
       "    </tr>\n",
       "    <tr>\n",
       "      <th>1859-02-01</th>\n",
       "      <td>1859-02-01</td>\n",
       "      <td>1859-02-28</td>\n",
       "      <td>2</td>\n",
       "      <td>35.6</td>\n",
       "      <td>19.9</td>\n",
       "      <td>20.0</td>\n",
       "      <td>13.3</td>\n",
       "      <td>26.95</td>\n",
       "      <td>17.25</td>\n",
       "    </tr>\n",
       "    <tr>\n",
       "      <th>1859-03-01</th>\n",
       "      <td>1859-03-01</td>\n",
       "      <td>1859-03-31</td>\n",
       "      <td>3</td>\n",
       "      <td>30.4</td>\n",
       "      <td>18.8</td>\n",
       "      <td>18.9</td>\n",
       "      <td>13.3</td>\n",
       "      <td>23.55</td>\n",
       "      <td>17.10</td>\n",
       "    </tr>\n",
       "    <tr>\n",
       "      <th>1859-04-01</th>\n",
       "      <td>1859-04-01</td>\n",
       "      <td>1859-04-30</td>\n",
       "      <td>4</td>\n",
       "      <td>31.1</td>\n",
       "      <td>16.8</td>\n",
       "      <td>17.7</td>\n",
       "      <td>7.8</td>\n",
       "      <td>22.45</td>\n",
       "      <td>13.25</td>\n",
       "    </tr>\n",
       "    <tr>\n",
       "      <th>1859-05-01</th>\n",
       "      <td>1859-05-01</td>\n",
       "      <td>1859-05-31</td>\n",
       "      <td>5</td>\n",
       "      <td>28.6</td>\n",
       "      <td>13.9</td>\n",
       "      <td>16.7</td>\n",
       "      <td>4.6</td>\n",
       "      <td>22.65</td>\n",
       "      <td>9.25</td>\n",
       "    </tr>\n",
       "    <tr>\n",
       "      <th>...</th>\n",
       "      <td>...</td>\n",
       "      <td>...</td>\n",
       "      <td>...</td>\n",
       "      <td>...</td>\n",
       "      <td>...</td>\n",
       "      <td>...</td>\n",
       "      <td>...</td>\n",
       "      <td>...</td>\n",
       "      <td>...</td>\n",
       "    </tr>\n",
       "    <tr>\n",
       "      <th>2022-03-01</th>\n",
       "      <td>2022-03-01</td>\n",
       "      <td>2022-03-31</td>\n",
       "      <td>3</td>\n",
       "      <td>28.6</td>\n",
       "      <td>21.5</td>\n",
       "      <td>21.4</td>\n",
       "      <td>15.1</td>\n",
       "      <td>24.45</td>\n",
       "      <td>19.50</td>\n",
       "    </tr>\n",
       "    <tr>\n",
       "      <th>2022-04-01</th>\n",
       "      <td>2022-04-01</td>\n",
       "      <td>2022-04-30</td>\n",
       "      <td>4</td>\n",
       "      <td>29.9</td>\n",
       "      <td>18.2</td>\n",
       "      <td>17.9</td>\n",
       "      <td>13.1</td>\n",
       "      <td>23.30</td>\n",
       "      <td>15.90</td>\n",
       "    </tr>\n",
       "    <tr>\n",
       "      <th>2022-05-01</th>\n",
       "      <td>2022-05-01</td>\n",
       "      <td>2022-05-31</td>\n",
       "      <td>5</td>\n",
       "      <td>26.8</td>\n",
       "      <td>14.9</td>\n",
       "      <td>18.2</td>\n",
       "      <td>8.2</td>\n",
       "      <td>21.45</td>\n",
       "      <td>12.05</td>\n",
       "    </tr>\n",
       "    <tr>\n",
       "      <th>2022-06-01</th>\n",
       "      <td>2022-06-01</td>\n",
       "      <td>2022-06-30</td>\n",
       "      <td>6</td>\n",
       "      <td>21.8</td>\n",
       "      <td>15.0</td>\n",
       "      <td>10.9</td>\n",
       "      <td>6.0</td>\n",
       "      <td>16.05</td>\n",
       "      <td>11.30</td>\n",
       "    </tr>\n",
       "    <tr>\n",
       "      <th>2022-07-01</th>\n",
       "      <td>2022-07-01</td>\n",
       "      <td>2022-07-03</td>\n",
       "      <td>7</td>\n",
       "      <td>16.7</td>\n",
       "      <td>12.0</td>\n",
       "      <td>11.7</td>\n",
       "      <td>10.3</td>\n",
       "      <td>14.20</td>\n",
       "      <td>11.15</td>\n",
       "    </tr>\n",
       "  </tbody>\n",
       "</table>\n",
       "<p>1963 rows × 9 columns</p>\n",
       "</div>"
      ],
      "text/plain": [
       "                  min        max  month  Tmax_max  Tmax_min  Tmin_max  \\\n",
       "1859-01-01 1859-01-01 1859-01-31      1      36.9      20.6      19.9   \n",
       "1859-02-01 1859-02-01 1859-02-28      2      35.6      19.9      20.0   \n",
       "1859-03-01 1859-03-01 1859-03-31      3      30.4      18.8      18.9   \n",
       "1859-04-01 1859-04-01 1859-04-30      4      31.1      16.8      17.7   \n",
       "1859-05-01 1859-05-01 1859-05-31      5      28.6      13.9      16.7   \n",
       "...               ...        ...    ...       ...       ...       ...   \n",
       "2022-03-01 2022-03-01 2022-03-31      3      28.6      21.5      21.4   \n",
       "2022-04-01 2022-04-01 2022-04-30      4      29.9      18.2      17.9   \n",
       "2022-05-01 2022-05-01 2022-05-31      5      26.8      14.9      18.2   \n",
       "2022-06-01 2022-06-01 2022-06-30      6      21.8      15.0      10.9   \n",
       "2022-07-01 2022-07-01 2022-07-03      7      16.7      12.0      11.7   \n",
       "\n",
       "            Tmin_min  T_max  T_min  \n",
       "1859-01-01      14.5  28.40  18.10  \n",
       "1859-02-01      13.3  26.95  17.25  \n",
       "1859-03-01      13.3  23.55  17.10  \n",
       "1859-04-01       7.8  22.45  13.25  \n",
       "1859-05-01       4.6  22.65   9.25  \n",
       "...              ...    ...    ...  \n",
       "2022-03-01      15.1  24.45  19.50  \n",
       "2022-04-01      13.1  23.30  15.90  \n",
       "2022-05-01       8.2  21.45  12.05  \n",
       "2022-06-01       6.0  16.05  11.30  \n",
       "2022-07-01      10.3  14.20  11.15  \n",
       "\n",
       "[1963 rows x 9 columns]"
      ]
     },
     "execution_count": 12,
     "metadata": {},
     "output_type": "execute_result"
    }
   ],
   "source": [
    "date_list=temps.index.tolist()\n",
    "mth_temps=pd.DataFrame(data=date_list, index=date_list).resample('MS')[0].agg([min,max])\n",
    "mth_temps['month']=mth_temps.index.month\n",
    "\n",
    "def min_max_temps(row):\n",
    "    stats=temps[(temps.index>=row['min']) & (temps.index<=row['max'])].agg([min,max])\n",
    "    row['Tmax_max'] = stats.loc['max', 'Tmax']\n",
    "    row['Tmax_min'] = stats.loc['min', 'Tmax']\n",
    "    row['Tmin_max'] = stats.loc['max', 'Tmin']\n",
    "    row['Tmin_min'] = stats.loc['min', 'Tmin']\n",
    "    row['T_max'] = stats.loc['max', 'T']\n",
    "    row['T_min'] = stats.loc['min', 'T']\n",
    "    return row\n",
    "\n",
    "mth_temps=mth_temps.apply(min_max_temps,axis=1)\n",
    "mth_temps"
   ]
  },
  {
   "cell_type": "markdown",
   "metadata": {},
   "source": [
    "### Let's look at the Temperature Extreme's on record \n",
    "\n",
    "- Now we can group on whichever seasons we would like, so here we aggregate on months from 1857-2022 to get the:\n",
    "    - maximum Tmax's\n",
    "    - minimum Tmin's\n",
    "    \n",
    "- Also interesting to inspect \n",
    "    - maximum Tmin's\n",
    "    - minimum Tmax's \n",
    "    "
   ]
  },
  {
   "cell_type": "code",
   "execution_count": 13,
   "metadata": {},
   "outputs": [
    {
     "data": {
      "text/html": [
       "<div>\n",
       "<style scoped>\n",
       "    .dataframe tbody tr th:only-of-type {\n",
       "        vertical-align: middle;\n",
       "    }\n",
       "\n",
       "    .dataframe tbody tr th {\n",
       "        vertical-align: top;\n",
       "    }\n",
       "\n",
       "    .dataframe thead tr th {\n",
       "        text-align: left;\n",
       "    }\n",
       "\n",
       "    .dataframe thead tr:last-of-type th {\n",
       "        text-align: right;\n",
       "    }\n",
       "</style>\n",
       "<table border=\"1\" class=\"dataframe\">\n",
       "  <thead>\n",
       "    <tr>\n",
       "      <th></th>\n",
       "      <th>Tmax_max</th>\n",
       "      <th>Tmin_min</th>\n",
       "      <th>Tmax_min</th>\n",
       "      <th>Tmin_max</th>\n",
       "    </tr>\n",
       "    <tr>\n",
       "      <th></th>\n",
       "      <th>max</th>\n",
       "      <th>min</th>\n",
       "      <th>min</th>\n",
       "      <th>max</th>\n",
       "    </tr>\n",
       "    <tr>\n",
       "      <th>months</th>\n",
       "      <th></th>\n",
       "      <th></th>\n",
       "      <th></th>\n",
       "      <th></th>\n",
       "    </tr>\n",
       "  </thead>\n",
       "  <tbody>\n",
       "    <tr>\n",
       "      <th>Jan</th>\n",
       "      <td>45.8</td>\n",
       "      <td>10.6</td>\n",
       "      <td>17.2</td>\n",
       "      <td>26.2</td>\n",
       "    </tr>\n",
       "    <tr>\n",
       "      <th>Feb</th>\n",
       "      <td>42.1</td>\n",
       "      <td>9.6</td>\n",
       "      <td>15.6</td>\n",
       "      <td>27.6</td>\n",
       "    </tr>\n",
       "    <tr>\n",
       "      <th>Mar</th>\n",
       "      <td>39.8</td>\n",
       "      <td>9.3</td>\n",
       "      <td>16.2</td>\n",
       "      <td>25.4</td>\n",
       "    </tr>\n",
       "    <tr>\n",
       "      <th>Apr</th>\n",
       "      <td>35.4</td>\n",
       "      <td>7.0</td>\n",
       "      <td>13.8</td>\n",
       "      <td>24.3</td>\n",
       "    </tr>\n",
       "    <tr>\n",
       "      <th>May</th>\n",
       "      <td>30.0</td>\n",
       "      <td>4.4</td>\n",
       "      <td>11.3</td>\n",
       "      <td>20.8</td>\n",
       "    </tr>\n",
       "    <tr>\n",
       "      <th>Jun</th>\n",
       "      <td>26.9</td>\n",
       "      <td>2.1</td>\n",
       "      <td>9.7</td>\n",
       "      <td>18.4</td>\n",
       "    </tr>\n",
       "    <tr>\n",
       "      <th>Jul</th>\n",
       "      <td>26.5</td>\n",
       "      <td>2.2</td>\n",
       "      <td>7.7</td>\n",
       "      <td>18.1</td>\n",
       "    </tr>\n",
       "    <tr>\n",
       "      <th>Aug</th>\n",
       "      <td>31.3</td>\n",
       "      <td>2.7</td>\n",
       "      <td>9.1</td>\n",
       "      <td>19.7</td>\n",
       "    </tr>\n",
       "    <tr>\n",
       "      <th>Sep</th>\n",
       "      <td>34.6</td>\n",
       "      <td>4.9</td>\n",
       "      <td>9.5</td>\n",
       "      <td>23.0</td>\n",
       "    </tr>\n",
       "    <tr>\n",
       "      <th>Oct</th>\n",
       "      <td>38.2</td>\n",
       "      <td>5.7</td>\n",
       "      <td>12.1</td>\n",
       "      <td>25.6</td>\n",
       "    </tr>\n",
       "    <tr>\n",
       "      <th>Nov</th>\n",
       "      <td>41.8</td>\n",
       "      <td>7.7</td>\n",
       "      <td>12.6</td>\n",
       "      <td>25.3</td>\n",
       "    </tr>\n",
       "    <tr>\n",
       "      <th>Dec</th>\n",
       "      <td>42.2</td>\n",
       "      <td>9.1</td>\n",
       "      <td>15.2</td>\n",
       "      <td>27.1</td>\n",
       "    </tr>\n",
       "  </tbody>\n",
       "</table>\n",
       "</div>"
      ],
      "text/plain": [
       "       Tmax_max Tmin_min Tmax_min Tmin_max\n",
       "            max      min      min      max\n",
       "months                                    \n",
       "Jan        45.8     10.6     17.2     26.2\n",
       "Feb        42.1      9.6     15.6     27.6\n",
       "Mar        39.8      9.3     16.2     25.4\n",
       "Apr        35.4      7.0     13.8     24.3\n",
       "May        30.0      4.4     11.3     20.8\n",
       "Jun        26.9      2.1      9.7     18.4\n",
       "Jul        26.5      2.2      7.7     18.1\n",
       "Aug        31.3      2.7      9.1     19.7\n",
       "Sep        34.6      4.9      9.5     23.0\n",
       "Oct        38.2      5.7     12.1     25.6\n",
       "Nov        41.8      7.7     12.6     25.3\n",
       "Dec        42.2      9.1     15.2     27.1"
      ]
     },
     "execution_count": 13,
     "metadata": {},
     "output_type": "execute_result"
    }
   ],
   "source": [
    "grouped_mths=mth_temps.groupby(mth_temps.month)[['Tmax_max', 'Tmax_min', 'Tmin_max', 'Tmin_min', \\\n",
    "                                                 'T_max', 'T_min']].agg([min, max])\n",
    "\n",
    "grouped_mths['months']=['Jan','Feb','Mar','Apr','May','Jun','Jul','Aug','Sep','Oct','Nov','Dec']\n",
    "grouped_mths=grouped_mths.set_index('months')\n",
    "grouped_mths[[('Tmax_max','max'),('Tmin_min','min'),('Tmax_min','min'),('Tmin_max','max')]]"
   ]
  },
  {
   "cell_type": "markdown",
   "metadata": {},
   "source": [
    "### Let's look at our Temperature Options Underlying: \"Avg Temp\"\n",
    "\n",
    "- This time we will look at the max and min's for both T_max and T_min for each month on record. Again we aggregate on months from 1857-2022 to get the:\n",
    "    - maximum T_max's\n",
    "    - minimum T_min's\n",
    "    \n",
    "- Also interesting to inspect\n",
    "    - maximum T_min's\n",
    "    - minimum T_max's"
   ]
  },
  {
   "cell_type": "code",
   "execution_count": 14,
   "metadata": {},
   "outputs": [
    {
     "data": {
      "text/html": [
       "<div>\n",
       "<style scoped>\n",
       "    .dataframe tbody tr th:only-of-type {\n",
       "        vertical-align: middle;\n",
       "    }\n",
       "\n",
       "    .dataframe tbody tr th {\n",
       "        vertical-align: top;\n",
       "    }\n",
       "\n",
       "    .dataframe thead tr th {\n",
       "        text-align: left;\n",
       "    }\n",
       "\n",
       "    .dataframe thead tr:last-of-type th {\n",
       "        text-align: right;\n",
       "    }\n",
       "</style>\n",
       "<table border=\"1\" class=\"dataframe\">\n",
       "  <thead>\n",
       "    <tr>\n",
       "      <th></th>\n",
       "      <th colspan=\"2\" halign=\"left\">T_max</th>\n",
       "      <th colspan=\"2\" halign=\"left\">T_min</th>\n",
       "    </tr>\n",
       "    <tr>\n",
       "      <th></th>\n",
       "      <th>max</th>\n",
       "      <th>min</th>\n",
       "      <th>max</th>\n",
       "      <th>min</th>\n",
       "    </tr>\n",
       "    <tr>\n",
       "      <th>months</th>\n",
       "      <th></th>\n",
       "      <th></th>\n",
       "      <th></th>\n",
       "      <th></th>\n",
       "    </tr>\n",
       "  </thead>\n",
       "  <tbody>\n",
       "    <tr>\n",
       "      <th>Jan</th>\n",
       "      <td>33.75</td>\n",
       "      <td>22.75</td>\n",
       "      <td>21.95</td>\n",
       "      <td>15.05</td>\n",
       "    </tr>\n",
       "    <tr>\n",
       "      <th>Feb</th>\n",
       "      <td>33.10</td>\n",
       "      <td>23.20</td>\n",
       "      <td>21.95</td>\n",
       "      <td>12.60</td>\n",
       "    </tr>\n",
       "    <tr>\n",
       "      <th>Mar</th>\n",
       "      <td>31.75</td>\n",
       "      <td>22.15</td>\n",
       "      <td>20.65</td>\n",
       "      <td>13.10</td>\n",
       "    </tr>\n",
       "    <tr>\n",
       "      <th>Apr</th>\n",
       "      <td>29.10</td>\n",
       "      <td>19.45</td>\n",
       "      <td>18.20</td>\n",
       "      <td>11.20</td>\n",
       "    </tr>\n",
       "    <tr>\n",
       "      <th>May</th>\n",
       "      <td>24.55</td>\n",
       "      <td>16.20</td>\n",
       "      <td>14.95</td>\n",
       "      <td>9.20</td>\n",
       "    </tr>\n",
       "    <tr>\n",
       "      <th>Jun</th>\n",
       "      <td>21.60</td>\n",
       "      <td>13.25</td>\n",
       "      <td>12.90</td>\n",
       "      <td>7.80</td>\n",
       "    </tr>\n",
       "    <tr>\n",
       "      <th>Jul</th>\n",
       "      <td>20.90</td>\n",
       "      <td>12.35</td>\n",
       "      <td>12.50</td>\n",
       "      <td>6.40</td>\n",
       "    </tr>\n",
       "    <tr>\n",
       "      <th>Aug</th>\n",
       "      <td>25.05</td>\n",
       "      <td>14.45</td>\n",
       "      <td>12.45</td>\n",
       "      <td>7.30</td>\n",
       "    </tr>\n",
       "    <tr>\n",
       "      <th>Sep</th>\n",
       "      <td>26.90</td>\n",
       "      <td>17.25</td>\n",
       "      <td>15.25</td>\n",
       "      <td>7.85</td>\n",
       "    </tr>\n",
       "    <tr>\n",
       "      <th>Oct</th>\n",
       "      <td>30.55</td>\n",
       "      <td>19.05</td>\n",
       "      <td>17.50</td>\n",
       "      <td>9.90</td>\n",
       "    </tr>\n",
       "    <tr>\n",
       "      <th>Nov</th>\n",
       "      <td>32.90</td>\n",
       "      <td>20.40</td>\n",
       "      <td>18.35</td>\n",
       "      <td>12.45</td>\n",
       "    </tr>\n",
       "    <tr>\n",
       "      <th>Dec</th>\n",
       "      <td>32.60</td>\n",
       "      <td>22.05</td>\n",
       "      <td>20.40</td>\n",
       "      <td>14.00</td>\n",
       "    </tr>\n",
       "  </tbody>\n",
       "</table>\n",
       "</div>"
      ],
      "text/plain": [
       "        T_max         T_min       \n",
       "          max    min    max    min\n",
       "months                            \n",
       "Jan     33.75  22.75  21.95  15.05\n",
       "Feb     33.10  23.20  21.95  12.60\n",
       "Mar     31.75  22.15  20.65  13.10\n",
       "Apr     29.10  19.45  18.20  11.20\n",
       "May     24.55  16.20  14.95   9.20\n",
       "Jun     21.60  13.25  12.90   7.80\n",
       "Jul     20.90  12.35  12.50   6.40\n",
       "Aug     25.05  14.45  12.45   7.30\n",
       "Sep     26.90  17.25  15.25   7.85\n",
       "Oct     30.55  19.05  17.50   9.90\n",
       "Nov     32.90  20.40  18.35  12.45\n",
       "Dec     32.60  22.05  20.40  14.00"
      ]
     },
     "execution_count": 14,
     "metadata": {},
     "output_type": "execute_result"
    }
   ],
   "source": [
    "grouped_mths[[('T_max', 'max'), ('T_max', 'min'), ('T_min', 'max'), ('T_min', 'min')]]"
   ]
  },
  {
   "cell_type": "markdown",
   "metadata": {},
   "source": [
    "## Part 2: [Time Series Decomposition and Modeling](https://quantpy.com.au/weather-derivatives/time-series-decomposition-and-modelling/)\n",
    "\n",
    "Time series decomposiiton is a technique that splits a time series into several components, each representing an underlying pattern category, trend, seasonality, and noise. \n",
    "\n",
    "### 1. Trend: decreasing, constant, or increasing over time?\n",
    "\n",
    "### 2. Seasonality: what is the periodic signal?\n",
    "\n",
    "### 3. Noise: variability in the data that cannot be explained by the model\n"
   ]
  },
  {
   "cell_type": "markdown",
   "metadata": {},
   "source": [
    "---\n",
    "### statsmodels: [seasonal_decompose](https://www.statsmodels.org/dev/generated/statsmodels.tsa.seasonal.seasonal_decompose.html)\n",
    "\n",
    "**This is a naive decomposition - [classical decomposition](https://otexts.com/fpp2/classical-decomposition.html). More sophisticated methods should be preferred.** \n",
    "\n",
    "The additive model is $y_t = T_t + S_t + e_t$\n",
    "\n",
    "The results are obtained by first estimating the trend by applying a convolution filter to the data. The trend is then removed from the series and the average of this de-trended series for each period is the returned seasonal component. The steps in classical decomposition are as follows:\n",
    "\n",
    "- 1) compute the trend-cycle component $\\hat{T_t}$ using an m-MA (moving average)\n",
    "\n",
    "- 2) calculate de-trended series $y_t - \\hat{T_t}$\n",
    "\n",
    "- 3) estimate seasonal componenet $\\hat{S_t}$, by averaging the detrended values for that season (in our case, this is each day of the year). Seasonal component values are adjusted to ensure they add to zero.\n",
    "\n",
    "- 4) the remainder is calculated $e_t = y_t - \\hat{T_t} - \\hat{S_t}$"
   ]
  },
  {
   "cell_type": "code",
   "execution_count": 16,
   "metadata": {},
   "outputs": [],
   "source": [
    "from statsmodels.graphics.api import qqplot\n",
    "from statsmodels.tsa.stattools import adfuller\n",
    "from statsmodels.tsa.seasonal import seasonal_decompose\n",
    "from statsmodels.graphics.tsaplots import plot_acf, plot_pacf\n",
    "from statsmodels.tsa.ar_model import AutoReg, ar_select_order, AutoRegResults"
   ]
  },
  {
   "cell_type": "code",
   "execution_count": 17,
   "metadata": {},
   "outputs": [
    {
     "data": {
      "text/html": [
       "<div>\n",
       "<style scoped>\n",
       "    .dataframe tbody tr th:only-of-type {\n",
       "        vertical-align: middle;\n",
       "    }\n",
       "\n",
       "    .dataframe tbody tr th {\n",
       "        vertical-align: top;\n",
       "    }\n",
       "\n",
       "    .dataframe thead th {\n",
       "        text-align: right;\n",
       "    }\n",
       "</style>\n",
       "<table border=\"1\" class=\"dataframe\">\n",
       "  <thead>\n",
       "    <tr style=\"text-align: right;\">\n",
       "      <th></th>\n",
       "      <th>Tmax</th>\n",
       "      <th>Tmin</th>\n",
       "      <th>T</th>\n",
       "    </tr>\n",
       "    <tr>\n",
       "      <th>Date</th>\n",
       "      <th></th>\n",
       "      <th></th>\n",
       "      <th></th>\n",
       "    </tr>\n",
       "  </thead>\n",
       "  <tbody>\n",
       "    <tr>\n",
       "      <th>1859-01-01</th>\n",
       "      <td>24.4</td>\n",
       "      <td>14.5</td>\n",
       "      <td>19.45</td>\n",
       "    </tr>\n",
       "    <tr>\n",
       "      <th>1859-01-02</th>\n",
       "      <td>24.4</td>\n",
       "      <td>15.7</td>\n",
       "      <td>20.05</td>\n",
       "    </tr>\n",
       "    <tr>\n",
       "      <th>1859-01-03</th>\n",
       "      <td>24.2</td>\n",
       "      <td>15.3</td>\n",
       "      <td>19.75</td>\n",
       "    </tr>\n",
       "    <tr>\n",
       "      <th>1859-01-04</th>\n",
       "      <td>24.7</td>\n",
       "      <td>17.4</td>\n",
       "      <td>21.05</td>\n",
       "    </tr>\n",
       "    <tr>\n",
       "      <th>1859-01-05</th>\n",
       "      <td>24.6</td>\n",
       "      <td>16.9</td>\n",
       "      <td>20.75</td>\n",
       "    </tr>\n",
       "    <tr>\n",
       "      <th>...</th>\n",
       "      <td>...</td>\n",
       "      <td>...</td>\n",
       "      <td>...</td>\n",
       "    </tr>\n",
       "    <tr>\n",
       "      <th>2022-06-29</th>\n",
       "      <td>17.9</td>\n",
       "      <td>8.0</td>\n",
       "      <td>12.95</td>\n",
       "    </tr>\n",
       "    <tr>\n",
       "      <th>2022-06-30</th>\n",
       "      <td>16.9</td>\n",
       "      <td>10.2</td>\n",
       "      <td>13.55</td>\n",
       "    </tr>\n",
       "    <tr>\n",
       "      <th>2022-07-01</th>\n",
       "      <td>12.0</td>\n",
       "      <td>10.3</td>\n",
       "      <td>11.15</td>\n",
       "    </tr>\n",
       "    <tr>\n",
       "      <th>2022-07-02</th>\n",
       "      <td>15.8</td>\n",
       "      <td>10.8</td>\n",
       "      <td>13.30</td>\n",
       "    </tr>\n",
       "    <tr>\n",
       "      <th>2022-07-03</th>\n",
       "      <td>16.7</td>\n",
       "      <td>11.7</td>\n",
       "      <td>14.20</td>\n",
       "    </tr>\n",
       "  </tbody>\n",
       "</table>\n",
       "<p>59557 rows × 3 columns</p>\n",
       "</div>"
      ],
      "text/plain": [
       "            Tmax  Tmin      T\n",
       "Date                         \n",
       "1859-01-01  24.4  14.5  19.45\n",
       "1859-01-02  24.4  15.7  20.05\n",
       "1859-01-03  24.2  15.3  19.75\n",
       "1859-01-04  24.7  17.4  21.05\n",
       "1859-01-05  24.6  16.9  20.75\n",
       "...          ...   ...    ...\n",
       "2022-06-29  17.9   8.0  12.95\n",
       "2022-06-30  16.9  10.2  13.55\n",
       "2022-07-01  12.0  10.3  11.15\n",
       "2022-07-02  15.8  10.8  13.30\n",
       "2022-07-03  16.7  11.7  14.20\n",
       "\n",
       "[59557 rows x 3 columns]"
      ]
     },
     "execution_count": 17,
     "metadata": {},
     "output_type": "execute_result"
    }
   ],
   "source": [
    "temps.sort_index(inplace=True)\n",
    "temps"
   ]
  },
  {
   "cell_type": "markdown",
   "metadata": {},
   "source": [
    "### Rolling window over 10 years - an upward trend over time"
   ]
  },
  {
   "cell_type": "code",
   "execution_count": 18,
   "metadata": {},
   "outputs": [
    {
     "data": {
      "text/plain": [
       "<matplotlib.axes._subplots.AxesSubplot at 0x7fd643751710>"
      ]
     },
     "execution_count": 18,
     "metadata": {},
     "output_type": "execute_result"
    },
    {
     "data": {
      "image/png": "[encoded data removed]",
      "text/plain": [
       "<Figure size 576x288 with 1 Axes>"
      ]
     },
     "metadata": {
      "needs_background": "light"
     },
     "output_type": "display_data"
    }
   ],
   "source": [
    "temps['T'].rolling(window = 365 * 10).mean().plot(figsize=(8,4), \\\n",
    "                                                  color='tab:red', title='Rolling mean over annual periods')"
   ]
  },
  {
   "cell_type": "markdown",
   "metadata": {},
   "source": [
    "### Variance over the rolling window - varying volatility "
   ]
  },
  {
   "cell_type": "code",
   "execution_count": 19,
   "metadata": {},
   "outputs": [
    {
     "data": {
      "text/plain": [
       "<matplotlib.axes._subplots.AxesSubplot at 0x7fd6519b24d0>"
      ]
     },
     "execution_count": 19,
     "metadata": {},
     "output_type": "execute_result"
    },
    {
     "data": {
      "image/png": "[encoded data removed]",
      "text/plain": [
       "<Figure size 576x288 with 1 Axes>"
      ]
     },
     "metadata": {
      "needs_background": "light"
     },
     "output_type": "display_data"
    }
   ],
   "source": [
    "temps['T'].rolling(window = 365 * 10).var().plot(figsize=(8,4), \\\n",
    "                                                color='tab:red', title='Rolling variance over annual periods')"
   ]
  },
  {
   "cell_type": "markdown",
   "metadata": {},
   "source": [
    "### Use seasonal_decompose function \n",
    "\n",
    "- ### Note: here we also use 10-year period to smooth out noise. If you use 1-year period, you still see an upward trend, but the graph would be much noisier. "
   ]
  },
  {
   "cell_type": "code",
   "execution_count": 20,
   "metadata": {},
   "outputs": [],
   "source": [
    "decompose_result=seasonal_decompose(temps['T'], model='additive', period=int(365*10), extrapolate_trend='freq')\n",
    "\n",
    "trend=decompose_result.trend\n",
    "seasonal=decompose_result.seasonal\n",
    "residual=decompose_result.resid"
   ]
  },
  {
   "cell_type": "markdown",
   "metadata": {},
   "source": [
    "- ### Visualize all data"
   ]
  },
  {
   "cell_type": "code",
   "execution_count": 21,
   "metadata": {},
   "outputs": [
    {
     "data": {
      "image/png": "[encoded data removed]",
      "text/plain": [
       "<Figure size 432x288 with 4 Axes>"
      ]
     },
     "metadata": {
      "needs_background": "light"
     },
     "output_type": "display_data"
    }
   ],
   "source": [
    "decompose_result.plot()\n",
    "plt.show()"
   ]
  },
  {
   "cell_type": "markdown",
   "metadata": {},
   "source": [
    "- ### Visualize 10 years \n"
   ]
  },
  {
   "cell_type": "code",
   "execution_count": 22,
   "metadata": {},
   "outputs": [
    {
     "data": {
      "text/plain": [
       "(-15, 15)"
      ]
     },
     "execution_count": 22,
     "metadata": {},
     "output_type": "execute_result"
    },
    {
     "data": {
      "image/png": "[encoded data removed]",
      "text/plain": [
       "<Figure size 576x432 with 3 Axes>"
      ]
     },
     "metadata": {
      "needs_background": "light"
     },
     "output_type": "display_data"
    }
   ],
   "source": [
    "years_examine=365*10\n",
    "fig, axs = plt.subplots(3, figsize=(8,6))\n",
    "fig.suptitle('Removed Trend and Seasonality')\n",
    "axs[0].plot(trend[-years_examine:])\n",
    "axs[1].plot(seasonal[-years_examine:])\n",
    "axs[1].set_ylim([-10,10])\n",
    "axs[2].plot(residual[-years_examine:])\n",
    "axs[2].set_ylim([-15,15])"
   ]
  },
  {
   "cell_type": "markdown",
   "metadata": {},
   "source": [
    "### Downsides of classical decomposition \n",
    "\n",
    "From the above results we can see two downsides of classical decomposition methods. See the 'Comments on classical decomposition' section [here](https://otexts.com/fpp2/classical-decomposition.html).\n",
    "\n",
    "   - Note that in the trend plot, the last five years show a straight line. That's because for the 10-year moving average, this is a two-sided moving average, meaning that it uses 5 years at the beginning of the time series, and 5 years at the end of the time series, and the trend over the beginning and the endding of the time series won't be calculated. And you basically see an extrapolated straight line. \n",
    "   \n",
    "   - The residual plot shows a strong auto-correlation. It seems that we can further decompose it. "
   ]
  },
  {
   "cell_type": "markdown",
   "metadata": {},
   "source": [
    "### Testing for Stationarity with Dicky-Fuller \n",
    "\n",
    "We can perform Dicky-Fuller test functionality available with the statsmodels library. Below we will test the stationarity of our time-series with this functionality and try to interpret its results to better understand it. \n",
    "\n",
    "Unit Root Test, null hypothesis is that unit root exists, aka `random walk`"
   ]
  },
  {
   "cell_type": "code",
   "execution_count": 23,
   "metadata": {},
   "outputs": [
    {
     "name": "stdout",
     "output_type": "stream",
     "text": [
      "1. ADF :  -20.464906237907293\n",
      "2. P-Value :  0.0\n",
      "3. Num of Lags :  60\n",
      "4. Num of Observations Used For ADF Regression and Critical Values Calculation :  59496\n",
      "5. Critical Values : \n",
      "\t 1% :  -3.4304599163331826\n",
      "\t 5% :  -2.861588580932765\n",
      "\t 10% :  -2.5667958579940375\n"
     ]
    }
   ],
   "source": [
    "dftest = adfuller(residual, autolag='AIC')\n",
    "\n",
    "print(\"1. ADF : \", dftest[0])\n",
    "print(\"2. P-Value : \", dftest[1])\n",
    "print(\"3. Num of Lags : \", dftest[2])\n",
    "print(\"4. Num of Observations Used For ADF Regression and Critical Values Calculation : \", dftest[3])\n",
    "print(\"5. Critical Values : \")\n",
    "for key, val in dftest[4].items():\n",
    "    print(\"\\t\", key, \": \", val)"
   ]
  },
  {
   "cell_type": "markdown",
   "metadata": {},
   "source": [
    "- [Wikipedia: unit root](https://en.wikipedia.org/wiki/Unit_root)\n",
    "    > In probability theory and statistics, a unit root is a feature of some stochastic processes (such as random walks) that can cause problems in statistical inference involving time series models.\n",
    "\n",
    "- [Wikipedia: Augmented_Dickey-Fuller_test (ADF)](https://en.wikipedia.org/wiki/Augmented_Dickey–Fuller_test)\n",
    "    > In statistics, an augmented Dickey–Fuller test (ADF) tests the null hypothesis that a unit root is present in a time series sample. The alternative hypothesis is different depending on which version of the test is used, but is usually stationarity or trend-stationarity. It is an augmented version of the Dickey–Fuller test for a larger and more complicated set of time series models.\n",
    "\n",
    "    > The augmented Dickey–Fuller (ADF) statistic, used in the test, is a negative number. The more negative it is, the stronger the rejection of the hypothesis that there is a unit root at some level of confidence."
   ]
  },
  {
   "cell_type": "markdown",
   "metadata": {},
   "source": [
    "- ### Based on the unit root test, the root unit is extremely unlikely to exist in the residual time series. "
   ]
  },
  {
   "cell_type": "markdown",
   "metadata": {},
   "source": [
    "### Check residual distribution"
   ]
  },
  {
   "cell_type": "code",
   "execution_count": 24,
   "metadata": {},
   "outputs": [
    {
     "data": {
      "text/plain": [
       "<matplotlib.axes._subplots.AxesSubplot at 0x7fd6302db550>"
      ]
     },
     "execution_count": 24,
     "metadata": {},
     "output_type": "execute_result"
    },
    {
     "data": {
      "image/png": "[encoded data removed]",
      "text/plain": [
       "<Figure size 576x432 with 1 Axes>"
      ]
     },
     "metadata": {
      "needs_background": "light"
     },
     "output_type": "display_data"
    }
   ],
   "source": [
    "residual.hist(bins=60, figsize=(8,6))"
   ]
  },
  {
   "cell_type": "markdown",
   "metadata": {},
   "source": [
    "### Analysis of Serial Correlations\n",
    "\n",
    "Below we are also plotting auto-correlation plot for time-series data as well. This plot helps us understand whether present values of time-series are positively correlated, negatively correlated or not related at all with past values. \n",
    "\n",
    "`statsmodels` library provides ready to use method `plot_acf` as a part of module `statsmodels.graphics.tsaplots`"
   ]
  },
  {
   "cell_type": "code",
   "execution_count": 25,
   "metadata": {},
   "outputs": [
    {
     "data": {
      "image/png": "[encoded data removed]",
      "text/plain": [
       "<Figure size 432x288 with 1 Axes>"
      ]
     },
     "metadata": {
      "needs_background": "light"
     },
     "output_type": "display_data"
    }
   ],
   "source": [
    "plot_acf(residual, lags=100)\n",
    "plt.show()"
   ]
  },
  {
   "cell_type": "markdown",
   "metadata": {},
   "source": [
    "- ### Above plot show strong positive auto-correlation until ~ 90 days, suggesting we have strong seasonal relationships in our residual terms. \n",
    "\n",
    "- ### Above we can see significant serial correlation. Since the auto-correlation function does not seem to vanish after a finite number of lags, we do not try and fit a moving average model. \n",
    "\n",
    "- ### Instead, we will try to determine the order of auto-regressive model. "
   ]
  },
  {
   "cell_type": "markdown",
   "metadata": {},
   "source": [
    "### Determine AR order by use of PACF & AIC Criterion\n",
    "\n",
    "[PACF](https://towardsdatascience.com/significance-of-acf-and-pacf-plots-in-time-series-analysis-2fa11a5d10a8#:~:text=ACF%20considers%20all%20these%20components,a%20partial%20auto%2Dcorrelation%20function) is a partial auto-correlation function. Basically instead of finding correlations of present values with lags like ACF, it finds correlation of the residuals. \n",
    "\n",
    "`These residuals remain after removing the effects which are already explained by the earlier lag(s) with the next lag value, i.e. we remove already found variations before we find the next correlation.` "
   ]
  },
  {
   "cell_type": "code",
   "execution_count": 26,
   "metadata": {},
   "outputs": [
    {
     "data": {
      "image/png": "[encoded data removed]",
      "text/plain": [
       "<Figure size 432x288 with 1 Axes>"
      ]
     },
     "metadata": {
      "needs_background": "light"
     },
     "output_type": "display_data"
    }
   ],
   "source": [
    "plot_pacf(residual, lags=40)\n",
    "plt.show()"
   ]
  },
  {
   "cell_type": "markdown",
   "metadata": {},
   "source": [
    "### Akaike Information Criterion (AIC)\n",
    "\n",
    "[AIC](https://towardsdatascience.com/introduction-to-aic-akaike-information-criterion-9c9ba1c96ced) is a single number score that can be used to determine which of multiple models is most likely to be the best model for a given dataset. AIC works by evaluating the model's fit on the training data, and adding a penalty term for the complexity of the model. \n",
    "\n",
    "$AIC = -2ln(L) + 2k$\n",
    "\n",
    "AIC equation, where L=likelihood and k= # of parameters. AIC uses a model's `maximum likelihood estimation` (log-likelihood) as a measure of fit. Log-likelihood is a measure of how likely one is to see their observed data, given a model. The model with the maximum likelihood is the one that \"fits\" the data the best. \n",
    "\n",
    "`The desired result is to find the lowest possible AIC, which indicates the best balance of model fit with generalizability. This serves the eventual goal of maximizing fit on out-of-sample data.` "
   ]
  },
  {
   "cell_type": "markdown",
   "metadata": {},
   "source": [
    "#### `Note: in ar_select_order, old_names is deprecated and will be removed after 0.14 is released. You must update any code reliant on the old variable names to use the new names.`"
   ]
  },
  {
   "cell_type": "code",
   "execution_count": 27,
   "metadata": {},
   "outputs": [
    {
     "data": {
      "image/png": "[encoded data removed]",
      "text/plain": [
       "<Figure size 432x288 with 1 Axes>"
      ]
     },
     "metadata": {
      "needs_background": "light"
     },
     "output_type": "display_data"
    }
   ],
   "source": [
    "residuals = residual.copy(deep=True)\n",
    "residuals.index = pd.DatetimeIndex(residuals.index).to_period('D')\n",
    "\n",
    "mod = ar_select_order(residuals, maxlag=40, ic='aic')\n",
    "\n",
    "aic = []\n",
    "\n",
    "for key, val in mod.aic.items():\n",
    "    if key != 0:\n",
    "        aic.append((key[-1], val))\n",
    "        \n",
    "aic.sort()\n",
    "\n",
    "x, y = [x for x, y in aic], [y for x, y in aic]\n",
    "\n",
    "plt.scatter(x, y)\n",
    "plt.plot([0,40], [y[15], y[15]], 'tab:orange')\n",
    "plt.text(3, y[15]+0.002, '{0}'.format(round(y[15], 3)), color='tab:orange')\n",
    "plt.plot([0,40], [y[20], y[20]], 'k--')\n",
    "plt.text(3, y[20]-0.004, '{0}'.format(round(y[20], 3)))\n",
    "plt.title('AIC Criterion')\n",
    "plt.xlabel('Lags in AR Model')\n",
    "plt.ylabel('AIC')\n",
    "plt.show()"
   ]
  },
  {
   "cell_type": "markdown",
   "metadata": {},
   "source": [
    "- ### As we can see AIC decreases as we increase the lag. And after 15, the AIC does not really decrease too much. "
   ]
  },
  {
   "cell_type": "markdown",
   "metadata": {},
   "source": [
    "### Fitting an AR model with lags=15\n",
    "\n",
    "[Interpreting the results](https://medium.com/swlh/interpreting-linear-regression-through-statsmodels-summary-4796d359035a) with statsmodels.summary()"
   ]
  },
  {
   "cell_type": "code",
   "execution_count": 28,
   "metadata": {},
   "outputs": [
    {
     "name": "stdout",
     "output_type": "stream",
     "text": [
      "                            AutoReg Model Results                             \n",
      "==============================================================================\n",
      "Dep. Variable:                  resid   No. Observations:                59557\n",
      "Model:                    AutoReg(15)   Log Likelihood             -122066.587\n",
      "Method:               Conditional MLE   S.D. of innovations              1.880\n",
      "Date:                Tue, 21 Feb 2023   AIC                              1.263\n",
      "Time:                        21:54:30   BIC                              1.265\n",
      "Sample:                    01-16-1859   HQIC                             1.264\n",
      "                         - 07-03-2022                                         \n",
      "==============================================================================\n",
      "                 coef    std err          z      P>|z|      [0.025      0.975]\n",
      "------------------------------------------------------------------------------\n",
      "resid.L1       0.6160      0.004    150.432      0.000       0.608       0.624\n",
      "resid.L2      -0.0520      0.005    -10.811      0.000      -0.061      -0.043\n",
      "resid.L3       0.0366      0.005      7.607      0.000       0.027       0.046\n",
      "resid.L4       0.0301      0.005      6.252      0.000       0.021       0.040\n",
      "resid.L5       0.0228      0.005      4.734      0.000       0.013       0.032\n",
      "resid.L6       0.0331      0.005      6.882      0.000       0.024       0.043\n",
      "resid.L7       0.0308      0.005      6.397      0.000       0.021       0.040\n",
      "resid.L8       0.0198      0.005      4.112      0.000       0.010       0.029\n",
      "resid.L9       0.0319      0.005      6.627      0.000       0.022       0.041\n",
      "resid.L10      0.0208      0.005      4.318      0.000       0.011       0.030\n",
      "resid.L11      0.0259      0.005      5.369      0.000       0.016       0.035\n",
      "resid.L12      0.0199      0.005      4.130      0.000       0.010       0.029\n",
      "resid.L13      0.0227      0.005      4.707      0.000       0.013       0.032\n",
      "resid.L14      0.0179      0.005      3.717      0.000       0.008       0.027\n",
      "resid.L15      0.0399      0.004      9.735      0.000       0.032       0.048\n",
      "                                    Roots                                     \n",
      "==============================================================================\n",
      "                   Real          Imaginary           Modulus         Frequency\n",
      "------------------------------------------------------------------------------\n",
      "AR.1             1.0214           -0.0000j            1.0214           -0.0000\n",
      "AR.2             1.0563           -0.4963j            1.1670           -0.0699\n",
      "AR.3             1.0563           +0.4963j            1.1670            0.0699\n",
      "AR.4             0.8196           -0.8921j            1.2115           -0.1317\n",
      "AR.5             0.8196           +0.8921j            1.2115            0.1317\n",
      "AR.6             0.4154           -1.1750j            1.2463           -0.1959\n",
      "AR.7             0.4154           +1.1750j            1.2463            0.1959\n",
      "AR.8            -0.0986           -1.2705j            1.2744           -0.2623\n",
      "AR.9            -0.0986           +1.2705j            1.2744            0.2623\n",
      "AR.10           -1.2692           -0.2905j            1.3020           -0.4642\n",
      "AR.11           -1.2692           +0.2905j            1.3020            0.4642\n",
      "AR.12           -1.0484           -0.7928j            1.3144           -0.3970\n",
      "AR.13           -1.0484           +0.7928j            1.3144            0.3970\n",
      "AR.14           -0.6099           -1.1363j            1.2896           -0.3284\n",
      "AR.15           -0.6099           +1.1363j            1.2896            0.3284\n",
      "------------------------------------------------------------------------------\n"
     ]
    }
   ],
   "source": [
    "model = AutoReg(residuals, lags=15, trend='n')\n",
    "model_fit = model.fit()\n",
    "coef= model_fit.params\n",
    "res = model_fit.resid\n",
    "res.index = res.index.to_timestamp()\n",
    "print(model_fit.summary())"
   ]
  },
  {
   "cell_type": "markdown",
   "metadata": {},
   "source": [
    "- ### Here, we want to focus on the columns `z` and `P>|z|`\n",
    "\n",
    "- ### Null Hypothesis: There is no relationship with autoregressive term, i.e. coefficient = 0. "
   ]
  },
  {
   "cell_type": "code",
   "execution_count": 29,
   "metadata": {},
   "outputs": [
    {
     "data": {
      "image/png": "[encoded data removed]",
      "text/plain": [
       "<Figure size 576x432 with 4 Axes>"
      ]
     },
     "metadata": {
      "needs_background": "light"
     },
     "output_type": "display_data"
    }
   ],
   "source": [
    "fig, axs = plt.subplots(2, 2, figsize=(8,6))\n",
    "fig.suptitle('Residuals after AR(15) model')\n",
    "axs[0,0].plot(res)\n",
    "axs[1,0].plot(res[-200:])\n",
    "plot_acf(res, lags=20, ax=axs[0,1])\n",
    "plot_pacf(res, lags=20, ax=axs[1,1])\n",
    "plt.show()"
   ]
  },
  {
   "cell_type": "markdown",
   "metadata": {},
   "source": [
    "- ### The auto-correlation function of the raw residuals of the AR(15) model fitted to the remainder component of the daily temperature in Sydney, looks like white noise now.\n",
    "\n",
    "- ### The serial correlation in the data appears to have been captured by the AR(15) model. We have our model, including the trend, seasonality and AR(15) model. "
   ]
  },
  {
   "cell_type": "code",
   "execution_count": 30,
   "metadata": {},
   "outputs": [
    {
     "data": {
      "image/png": "[encoded data removed]",
      "text/plain": [
       "<Figure size 432x288 with 1 Axes>"
      ]
     },
     "metadata": {
      "needs_background": "light"
     },
     "output_type": "display_data"
    }
   ],
   "source": [
    "from scipy.stats import norm\n",
    "qqplot(res, marker='x', dist=norm, loc=0, scale=np.std(res), line='45')\n",
    "plt.show()"
   ]
  }
 ],
 "metadata": {
  "kernelspec": {
   "display_name": "Python 3",
   "language": "python",
   "name": "python3"
  },
  "language_info": {
   "codemirror_mode": {
    "name": "ipython",
    "version": 3
   },
   "file_extension": ".py",
   "mimetype": "text/x-python",
   "name": "python",
   "nbconvert_exporter": "python",
   "pygments_lexer": "ipython3",
   "version": "3.7.6"
  }
 },
 "nbformat": 4,
 "nbformat_minor": 4
}
